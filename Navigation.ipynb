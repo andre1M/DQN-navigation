{
 "cells": [
  {
   "cell_type": "markdown",
   "metadata": {},
   "source": [
    "# Navigation task using different DQN architectures\n",
    "---\n",
    "\n",
    "### Introduction\n",
    "\n",
    "This notebook provides an overview of the basic Deep Q Networks (DQN) architecture and some popular improvements, such as Double and Dueling DQNs and prioritized experience replay (PER). We start with the explanation of crucial concepts and formal mathematics. Then we'll talk you through implementation in python with PyTorch. Finally, there we'll demonstrate some of the implemented approaches.\n",
    "\n",
    "\n",
    "### Background\n"
   ]
  },
  {
   "cell_type": "code",
   "execution_count": null,
   "metadata": {},
   "outputs": [],
   "source": []
  }
 ],
 "metadata": {
  "kernelspec": {
   "display_name": "Python 3",
   "language": "python",
   "name": "python3"
  },
  "language_info": {
   "codemirror_mode": {
    "name": "ipython",
    "version": 3
   },
   "file_extension": ".py",
   "mimetype": "text/x-python",
   "name": "python",
   "nbconvert_exporter": "python",
   "pygments_lexer": "ipython3",
   "version": "3.6.10"
  }
 },
 "nbformat": 4,
 "nbformat_minor": 4
}
